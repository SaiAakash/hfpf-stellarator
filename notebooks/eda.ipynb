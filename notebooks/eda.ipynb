{
 "cells": [
  {
   "cell_type": "markdown",
   "metadata": {},
   "source": [
    "## **EDA of Proxima Fusion Dataset**"
   ]
  },
  {
   "cell_type": "code",
   "execution_count": 24,
   "metadata": {},
   "outputs": [],
   "source": [
    "import datasets\n",
    "import torch\n",
    "from pprint import pprint"
   ]
  },
  {
   "cell_type": "code",
   "execution_count": 25,
   "metadata": {},
   "outputs": [],
   "source": [
    "# Importing Dataset\n",
    "ds = datasets.load_dataset(\n",
    "    \"proxima-fusion/constellaration\",\n",
    "    split=\"train\",\n",
    "    num_proc=4,\n",
    ")"
   ]
  },
  {
   "cell_type": "markdown",
   "metadata": {},
   "source": [
    "### Perform basic filtering and print example of a dataset"
   ]
  },
  {
   "cell_type": "code",
   "execution_count": 26,
   "metadata": {},
   "outputs": [
    {
     "name": "stdout",
     "output_type": "stream",
     "text": [
      "{'boundary.r_cos': tensor([[[ 0.0000e+00,  0.0000e+00,  0.0000e+00,  0.0000e+00,  1.0000e+00,\n",
      "          -6.5763e-02, -3.8500e-02,  2.2178e-03,  4.6007e-04],\n",
      "         [-6.6648e-04, -1.0976e-02,  5.6475e-02,  1.4193e-02,  8.3476e-02,\n",
      "          -4.6767e-02, -1.3679e-02,  3.9562e-03,  1.0087e-04],\n",
      "         [-3.5474e-04,  4.7144e-03,  8.3967e-04, -1.9705e-02, -9.4592e-03,\n",
      "          -5.8859e-03,  1.0172e-03,  9.2020e-04, -2.0059e-04],\n",
      "         [ 2.9056e-03,  1.6125e-04, -4.0626e-04, -8.0189e-03,  1.3228e-03,\n",
      "          -5.3636e-04, -7.3536e-04,  3.4558e-05,  1.4845e-04],\n",
      "         [-1.2475e-04, -4.9942e-04, -2.6091e-04, -5.6161e-04,  8.3187e-05,\n",
      "          -1.2714e-04, -2.1174e-04,  4.1940e-06, -4.5643e-05]],\n",
      "\n",
      "        [[ 0.0000e+00,  0.0000e+00,  0.0000e+00,  0.0000e+00,  9.9909e-01,\n",
      "          -6.8512e-02, -8.1567e-02,  2.5140e-02, -2.4035e-03],\n",
      "         [-3.4328e-03,  1.6768e-02,  1.2305e-02, -3.6708e-02,  1.0285e-01,\n",
      "           1.1224e-02, -2.3418e-02, -5.4137e-04,  9.3986e-04],\n",
      "         [-2.8389e-03,  1.4652e-03,  1.0112e-03,  9.8102e-04, -2.3162e-02,\n",
      "          -6.1180e-03,  1.5327e-03,  9.4122e-04, -1.2781e-03],\n",
      "         [ 3.9240e-04, -2.3131e-04,  4.5690e-04, -3.8244e-03, -1.5314e-03,\n",
      "           1.8863e-03,  1.1882e-03, -5.2338e-04,  2.6766e-04],\n",
      "         [-2.8441e-04, -3.4162e-04,  5.4013e-05,  7.4252e-04,  4.9895e-04,\n",
      "          -6.1110e-04, -8.7185e-04, -1.1714e-04,  9.9285e-08]],\n",
      "\n",
      "        [[ 0.0000e+00,  0.0000e+00,  0.0000e+00,  0.0000e+00,  1.0000e+00,\n",
      "           6.9176e-02, -1.8489e-02, -6.5094e-03, -7.6238e-04],\n",
      "         [ 1.4062e-03,  4.2645e-03, -1.0647e-02, -8.1579e-02,  1.0522e-01,\n",
      "           1.6914e-02,  6.5321e-04,  6.9397e-04,  2.0881e-04],\n",
      "         [-6.5155e-05, -1.2232e-03, -3.3660e-03,  9.8742e-03, -1.4611e-02,\n",
      "           6.0985e-03,  9.5693e-04, -1.0049e-04,  5.4173e-05],\n",
      "         [-4.3969e-04, -5.1155e-04,  6.9611e-03, -2.8698e-04, -5.8589e-03,\n",
      "          -5.4844e-05, -7.3797e-04, -5.4401e-06, -3.3698e-05],\n",
      "         [-1.9741e-04,  1.0003e-04, -2.0176e-04,  4.9546e-04, -1.6201e-04,\n",
      "          -1.9169e-04, -3.9886e-04,  3.3773e-05, -3.5972e-05]],\n",
      "\n",
      "        [[ 0.0000e+00,  0.0000e+00,  0.0000e+00,  0.0000e+00,  1.0000e+00,\n",
      "           1.1652e-01, -1.5593e-02, -1.0215e-02, -1.8656e-03],\n",
      "         [ 3.1697e-03,  2.1618e-02,  2.7072e-02, -2.4032e-02,  8.6125e-02,\n",
      "          -7.1168e-04, -1.2433e-02, -2.0902e-03,  1.5868e-04],\n",
      "         [-2.3877e-04, -4.9871e-03, -2.4145e-02, -2.1623e-02, -3.1477e-02,\n",
      "          -8.3460e-03, -8.8675e-04, -5.3290e-04, -2.2784e-04],\n",
      "         [-1.0006e-03,  2.1055e-05, -1.7186e-03, -5.2886e-03,  4.5186e-03,\n",
      "          -1.1530e-03,  6.2732e-05,  1.4212e-04,  4.3367e-05],\n",
      "         [ 7.8993e-05, -3.9503e-04,  1.5458e-03, -4.9707e-04, -3.9470e-04,\n",
      "           6.0808e-04, -3.6447e-04,  1.2936e-04,  6.3461e-07]]]),\n",
      " 'boundary.z_sin': tensor([[[ 0.0000e+00,  0.0000e+00,  0.0000e+00,  0.0000e+00,  0.0000e+00,\n",
      "          -1.4295e-02,  1.4929e-02, -6.6461e-03, -3.0652e-04],\n",
      "         [ 9.6958e-05, -1.6067e-03,  5.7568e-02, -2.2848e-02, -1.6101e-01,\n",
      "           1.6560e-02,  1.5032e-02, -1.2463e-03, -4.0128e-04],\n",
      "         [-9.9541e-04,  3.6108e-03, -1.1401e-02, -1.8894e-02, -7.7459e-04,\n",
      "           9.4527e-03, -4.6871e-04, -5.5180e-04,  3.2248e-04],\n",
      "         [ 2.3465e-03, -2.4885e-03, -8.4212e-03,  8.9649e-03, -1.9880e-03,\n",
      "          -1.6269e-03,  8.4700e-04,  3.7171e-04, -6.8400e-05],\n",
      "         [-3.6228e-04, -1.8575e-04,  6.0890e-04,  5.0270e-04, -6.9953e-04,\n",
      "          -7.6356e-05,  2.3796e-04, -3.2524e-05,  5.3396e-05]],\n",
      "\n",
      "        [[ 0.0000e+00,  0.0000e+00,  0.0000e+00,  0.0000e+00,  0.0000e+00,\n",
      "          -8.5341e-02,  2.4825e-02,  8.0996e-03, -7.1501e-03],\n",
      "         [-1.3470e-03,  4.6367e-03,  4.1579e-02, -3.6802e-02, -1.5076e-01,\n",
      "           7.1852e-02, -1.9793e-02,  8.2575e-03, -3.8958e-03],\n",
      "         [-2.3956e-03, -5.7497e-03,  5.8264e-03,  9.4471e-03, -3.5171e-03,\n",
      "          -1.0481e-02, -3.2885e-03,  4.0624e-03,  4.3130e-04],\n",
      "         [ 6.3403e-05, -9.2162e-04, -2.4765e-03,  5.4090e-04,  1.9999e-03,\n",
      "          -1.1500e-03,  2.7581e-03, -5.7271e-04,  3.0363e-04],\n",
      "         [ 4.6278e-04,  4.3696e-04,  8.0524e-05, -2.4660e-04, -2.3747e-04,\n",
      "           5.5060e-05, -1.3221e-04, -5.4823e-05,  1.6025e-04]],\n",
      "\n",
      "        [[ 0.0000e+00,  0.0000e+00,  0.0000e+00,  0.0000e+00,  0.0000e+00,\n",
      "          -1.6090e-01, -1.4364e-02,  3.7923e-03,  1.8234e-03],\n",
      "         [ 1.2118e-03,  3.1261e-03,  3.2037e-03, -5.7482e-02, -1.5461e-01,\n",
      "          -1.8058e-03, -5.7149e-03, -7.4521e-04,  2.9463e-04],\n",
      "         [ 8.7049e-04, -3.2717e-04, -1.0188e-02,  1.1215e-02, -7.4697e-03,\n",
      "          -1.3592e-03, -1.4984e-03, -3.1362e-04,  1.5780e-06],\n",
      "         [ 1.2617e-04, -1.2257e-04, -6.9928e-04,  8.7431e-04, -2.5848e-03,\n",
      "           1.2087e-03, -2.4723e-04, -1.6535e-05, -6.4372e-05],\n",
      "         [-4.3932e-04, -1.8130e-04,  7.4368e-04, -6.1396e-04, -4.1518e-04,\n",
      "           4.8132e-04,  1.6036e-04,  5.3081e-05,  1.6636e-05]],\n",
      "\n",
      "        [[ 0.0000e+00,  0.0000e+00,  0.0000e+00,  0.0000e+00,  0.0000e+00,\n",
      "          -1.1264e-02, -1.8349e-03,  7.2464e-03,  2.3807e-03],\n",
      "         [ 3.2969e-03,  1.9590e-02,  2.8355e-02, -1.0493e-02, -1.3216e-01,\n",
      "           1.7804e-02,  7.9768e-03,  2.1362e-03, -6.9118e-04],\n",
      "         [-5.2572e-04, -4.1409e-03, -3.6560e-02,  2.1644e-02,  1.6418e-02,\n",
      "           9.3557e-03,  3.3846e-03,  7.4172e-05,  1.8406e-04],\n",
      "         [-1.4907e-03,  2.0496e-03, -4.8581e-03,  3.5471e-03, -2.9191e-03,\n",
      "          -1.5056e-03,  7.7168e-04, -2.3136e-04, -1.2064e-05],\n",
      "         [-2.3742e-04,  4.5083e-04, -1.2933e-03, -4.4028e-04,  6.4168e-04,\n",
      "          -8.2755e-04,  4.1233e-04, -1.1037e-04, -6.3762e-06]]]),\n",
      " 'metrics.aspect_ratio': tensor([9.6474, 9.1036, 9.4119, 9.5872]),\n",
      " 'metrics.aspect_ratio_over_edge_rotational_transform': tensor([  9.3211, 106.7966,  13.8752,   8.9834]),\n",
      " 'metrics.average_triangularity': tensor([-0.6456, -0.5325, -0.6086, -0.6531]),\n",
      " 'metrics.axis_magnetic_mirror_ratio': tensor([0.2823, 0.4224, 0.2821, 0.2213]),\n",
      " 'metrics.axis_rotational_transform_over_n_field_periods': tensor([0.2333, 0.0818, 0.1887, 0.1509]),\n",
      " 'metrics.edge_magnetic_mirror_ratio': tensor([0.4869, 0.5507, 0.3029, 0.2991]),\n",
      " 'metrics.edge_rotational_transform_over_n_field_periods': tensor([0.3450, 0.0284, 0.2261, 0.3557]),\n",
      " 'metrics.flux_compression_in_regions_of_bad_curvature': tensor([1.4084, 0.9789, 1.5391, 1.1138]),\n",
      " 'metrics.max_elongation': tensor([6.7565, 6.9036, 5.6105, 5.8703]),\n",
      " 'metrics.minimum_normalized_magnetic_gradient_scale_length': tensor([5.9777, 4.2971, 8.5928, 4.8531]),\n",
      " 'metrics.qi': tensor([0.0148, 0.0157, 0.0016, 0.0248]),\n",
      " 'metrics.vacuum_well': tensor([-0.2297, -0.1146, -0.0983, -0.1738])}\n"
     ]
    }
   ],
   "source": [
    "ds = ds.select_columns(\n",
    "    [\n",
    "        c\n",
    "        for c in ds.column_names\n",
    "        if c.startswith(\"boundary.\") or c.startswith(\"metrics.\")\n",
    "    ]\n",
    ")\n",
    "ds = ds.filter(\n",
    "    lambda x: x == 3,\n",
    "    input_columns=[\"boundary.n_field_periods\"],\n",
    "    num_proc=4,\n",
    ")\n",
    "ml_ds = ds.remove_columns(\n",
    "    [\n",
    "        \"boundary.n_field_periods\",\n",
    "        \"boundary.is_stellarator_symmetric\",  # all same value\n",
    "        \"boundary.r_sin\",\n",
    "        \"boundary.z_cos\",  # empty\n",
    "        \"boundary.json\",\n",
    "        \"metrics.json\",\n",
    "        \"metrics.id\",  # not needed\n",
    "    ]\n",
    ")\n",
    "\n",
    "device = torch.device(\"cuda\" if torch.cuda.is_available() else \"cpu\")\n",
    "torch_ds = ml_ds.with_format(\n",
    "    \"torch\", device=device\n",
    ")  # other options: \"jax\", \"tensorflow\" etc.\n",
    "\n",
    "for batch in torch.utils.data.DataLoader(torch_ds, batch_size=4, num_workers=4):\n",
    "    pprint(batch)\n",
    "    break"
   ]
  },
  {
   "cell_type": "markdown",
   "metadata": {},
   "source": [
    "### Try running the forward model on an example configuration"
   ]
  },
  {
   "cell_type": "code",
   "execution_count": 5,
   "metadata": {},
   "outputs": [],
   "source": [
    "r_cos_example = batch[\"boundary.r_cos\"][0]\n",
    "z_sin_example = batch[\"boundary.z_sin\"][0]"
   ]
  },
  {
   "cell_type": "code",
   "execution_count": 38,
   "metadata": {},
   "outputs": [],
   "source": [
    "from constellaration.geometry.surface_rz_fourier import SurfaceRZFourier\n",
    "\n",
    "# Construct boundary surface objects from torch tensors\n",
    "surface = SurfaceRZFourier(r_cos=r_cos_example.numpy(), z_sin=z_sin_example.numpy())"
   ]
  },
  {
   "cell_type": "code",
   "execution_count": 39,
   "metadata": {},
   "outputs": [],
   "source": [
    "from constellaration.forward_model import forward_model\n",
    "\n",
    "# Forward model to compute metrics from the boundary surface\n",
    "metrics, _ = forward_model(boundary=surface)"
   ]
  },
  {
   "cell_type": "markdown",
   "metadata": {},
   "source": [
    "### Load and save batches of datasets"
   ]
  },
  {
   "cell_type": "code",
   "execution_count": 8,
   "metadata": {},
   "outputs": [],
   "source": [
    "dataset = []\n",
    "for big_batch in torch.utils.data.DataLoader(\n",
    "    torch_ds, batch_size=5000, shuffle=True, num_workers=4\n",
    "):\n",
    "    dataset.append(big_batch)\n",
    "    break"
   ]
  },
  {
   "cell_type": "code",
   "execution_count": 10,
   "metadata": {},
   "outputs": [],
   "source": [
    "for i, mini_batch in enumerate(dataset):\n",
    "    mini_batch[\"boundary.r_cos\"] = torch.reshape(\n",
    "        mini_batch[\"boundary.r_cos\"],\n",
    "        shape=(\n",
    "            mini_batch[\"boundary.r_cos\"].shape[0],\n",
    "            mini_batch[\"boundary.r_cos\"].shape[1]\n",
    "            * mini_batch[\"boundary.r_cos\"].shape[2],\n",
    "        ),\n",
    "    )\n",
    "\n",
    "    mini_batch[\"boundary.z_sin\"] = torch.reshape(\n",
    "        mini_batch[\"boundary.z_sin\"],\n",
    "        shape=(\n",
    "            mini_batch[\"boundary.z_sin\"].shape[0],\n",
    "            mini_batch[\"boundary.z_sin\"].shape[1]\n",
    "            * mini_batch[\"boundary.z_sin\"].shape[2],\n",
    "        ),\n",
    "    )\n",
    "\n",
    "    mini_batch = torch.concatenate(\n",
    "        [\n",
    "            mini_batch[\"boundary.r_cos\"],\n",
    "            mini_batch[\"boundary.z_sin\"],\n",
    "            mini_batch[\"metrics.max_elongation\"].unsqueeze(-1),\n",
    "            mini_batch[\"metrics.aspect_ratio\"].unsqueeze(-1),\n",
    "            mini_batch[\"metrics.average_triangularity\"].unsqueeze(-1),\n",
    "            mini_batch[\n",
    "                \"metrics.edge_rotational_transform_over_n_field_periods\"\n",
    "            ].unsqueeze(-1),\n",
    "        ],\n",
    "        dim=1,\n",
    "    )\n",
    "\n",
    "    torch.save(mini_batch, f\"../data/batch_{i}.pt\")"
   ]
  },
  {
   "cell_type": "markdown",
   "metadata": {},
   "source": [
    "### PCA analysis for dimensionality reduction"
   ]
  },
  {
   "cell_type": "code",
   "execution_count": 52,
   "metadata": {},
   "outputs": [
    {
     "data": {
      "text/plain": [
       "tensor([0.0048, 0.5646, 0.7232, 0.8158, 0.9041, 0.9492, 0.9698, 0.9794, 0.9847,\n",
       "        0.9884, 0.9908, 0.9931, 0.9947, 0.9962, 0.9972, 0.9980, 0.9983, 0.9986,\n",
       "        0.9989, 0.9991, 0.9993, 0.9994, 0.9995, 0.9996, 0.9996, 0.9997, 0.9997,\n",
       "        0.9998, 0.9998, 0.9999, 0.9999, 0.9999, 0.9999, 0.9999, 1.0000, 1.0000,\n",
       "        1.0000, 1.0000, 1.0000, 1.0000, 1.0000, 1.0000, 1.0000, 1.0000, 1.0000])"
      ]
     },
     "execution_count": 52,
     "metadata": {},
     "output_type": "execute_result"
    }
   ],
   "source": [
    "data = dataset[0][\"boundary.r_cos\"]  # 0.9999 variance with 25 dims\n",
    "# data = dataset[0][\"boundary.z_sin\"]  # 0.9999 variance with 28 dims\n",
    "\n",
    "# perform decomposition on the data\n",
    "u, s, vh = torch.linalg.svd(data, full_matrices=False)\n",
    "\n",
    "# project data along singular vectors\n",
    "data_transformed = torch.matmul(data, vh.T)\n",
    "\n",
    "# calculate explained variance\n",
    "explained_variance = torch.var(data_transformed, dim=0) / torch.var(data, dim=0).sum()\n",
    "\n",
    "torch.cumsum(explained_variance, dim=0)"
   ]
  }
 ],
 "metadata": {
  "kernelspec": {
   "display_name": "hf-stellarator-NEffnWGp-py3.10",
   "language": "python",
   "name": "python3"
  },
  "language_info": {
   "codemirror_mode": {
    "name": "ipython",
    "version": 3
   },
   "file_extension": ".py",
   "mimetype": "text/x-python",
   "name": "python",
   "nbconvert_exporter": "python",
   "pygments_lexer": "ipython3",
   "version": "3.10.13"
  }
 },
 "nbformat": 4,
 "nbformat_minor": 2
}
